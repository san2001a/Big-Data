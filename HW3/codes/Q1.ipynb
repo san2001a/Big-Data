{
 "cells": [
  {
   "cell_type": "code",
   "execution_count": 16,
   "metadata": {},
   "outputs": [],
   "source": [
    "import pandas as pd\n",
    "from skmultiflow.data import FileStream\n",
    "from skmultiflow.trees import HoeffdingTree\n",
    "from skmultiflow.meta import AdaptiveRandomForestClassifier\n",
    "from skmultiflow.evaluation import EvaluatePrequential"
   ]
  },
  {
   "cell_type": "markdown",
   "metadata": {},
   "source": [
    "Read Data"
   ]
  },
  {
   "cell_type": "code",
   "execution_count": 4,
   "metadata": {},
   "outputs": [
    {
     "name": "stderr",
     "output_type": "stream",
     "text": [
      "/Users/sana/opt/anaconda3/lib/python3.9/site-packages/skmultiflow/data/base_stream.py:191: FutureWarning: 'prepare_for_use' has been deprecated in v0.5.0 and will be removed in v0.7.0.\n",
      "New instances of the Stream class are now ready to use after instantiation.\n",
      "  warnings.warn(\n"
     ]
    }
   ],
   "source": [
    "csv_file_path = 'stream_data.csv'\n",
    "stream = FileStream(csv_file_path)\n",
    "stream.prepare_for_use()"
   ]
  },
  {
   "cell_type": "markdown",
   "metadata": {},
   "source": [
    "Get Size of Data"
   ]
  },
  {
   "cell_type": "code",
   "execution_count": 10,
   "metadata": {},
   "outputs": [
    {
     "name": "stdout",
     "output_type": "stream",
     "text": [
      "The CSV file contains 4000001 rows.\n"
     ]
    }
   ],
   "source": [
    "df = pd.read_csv(csv_file_path)\n",
    "num_rows = len(df)\n",
    "print(f\"The CSV file contains {num_rows} rows.\")"
   ]
  },
  {
   "cell_type": "markdown",
   "metadata": {},
   "source": [
    "Check the Read Data Stream"
   ]
  },
  {
   "cell_type": "code",
   "execution_count": 5,
   "metadata": {},
   "outputs": [
    {
     "name": "stdout",
     "output_type": "stream",
     "text": [
      "First few samples from the stream:\n",
      "Sample 1: X=[[2.40710035 2.39048173 2.03172447]], y=[0]\n",
      "Sample 2: X=[[8.77528774 3.22438503 5.71692091]], y=[1]\n",
      "Sample 3: X=[[3.71596923 5.47447819 9.84467718]], y=[1]\n",
      "Sample 4: X=[[3.64947949 8.91395958 3.02884623]], y=[1]\n",
      "Sample 5: X=[[4.20265406 0.89488276 3.48123019]], y=[0]\n"
     ]
    }
   ],
   "source": [
    "print(\"First few samples from the stream:\")\n",
    "for i in range(5):\n",
    "    X, y = stream.next_sample()\n",
    "    print(f\"Sample {i+1}: X={X}, y={y}\")"
   ]
  },
  {
   "cell_type": "markdown",
   "metadata": {},
   "source": [
    "Define Models"
   ]
  },
  {
   "cell_type": "code",
   "execution_count": 6,
   "metadata": {},
   "outputs": [
    {
     "name": "stderr",
     "output_type": "stream",
     "text": [
      "/Users/sana/opt/anaconda3/lib/python3.9/site-packages/skmultiflow/trees/hoeffding_tree.py:34: FutureWarning: 'HoeffdingTree' has been renamed to 'HoeffdingTreeClassifier' in v0.5.0.\n",
      "The old name will be removed in v0.7.0\n",
      "  warnings.warn(\"'HoeffdingTree' has been renamed to 'HoeffdingTreeClassifier' in v0.5.0.\\n\"\n"
     ]
    }
   ],
   "source": [
    "ht = HoeffdingTree()\n",
    "arf = AdaptiveRandomForestClassifier()"
   ]
  },
  {
   "cell_type": "markdown",
   "metadata": {},
   "source": [
    "Define Sample Sizes"
   ]
  },
  {
   "cell_type": "code",
   "execution_count": 20,
   "metadata": {},
   "outputs": [],
   "source": [
    "pretrain_size = 2000000\n",
    "max_samples = 4000000"
   ]
  },
  {
   "cell_type": "markdown",
   "metadata": {},
   "source": [
    "Train & Evaluation Using HT"
   ]
  },
  {
   "cell_type": "code",
   "execution_count": 21,
   "metadata": {},
   "outputs": [],
   "source": [
    "evaluator_ht = EvaluatePrequential(show_plot=False,\n",
    "                                   pretrain_size=pretrain_size,\n",
    "                                   max_samples=max_samples,\n",
    "                                   metrics=['accuracy', 'kappa'])"
   ]
  },
  {
   "cell_type": "code",
   "execution_count": 22,
   "metadata": {},
   "outputs": [
    {
     "name": "stdout",
     "output_type": "stream",
     "text": [
      "Prequential Evaluation\n",
      "Evaluating 1 target(s).\n",
      "Pre-training on 2000000 sample(s).\n",
      "Evaluating...\n",
      " #################### [100%] [187.02s]\n",
      "Processed samples: 4000000\n",
      "Mean performance:\n",
      "Hoeffding Tree - Accuracy     : 0.9993\n",
      "Hoeffding Tree - Kappa        : 0.9984\n"
     ]
    },
    {
     "data": {
      "text/plain": [
       "[HoeffdingTreeClassifier(binary_split=False, grace_period=200,\n",
       "                         leaf_prediction='nba', max_byte_size=33554432,\n",
       "                         memory_estimate_period=1000000, nb_threshold=0,\n",
       "                         no_preprune=False, nominal_attributes=None,\n",
       "                         remove_poor_atts=False, split_confidence=1e-07,\n",
       "                         split_criterion='info_gain', stop_mem_management=False,\n",
       "                         tie_threshold=0.05)]"
      ]
     },
     "execution_count": 22,
     "metadata": {},
     "output_type": "execute_result"
    }
   ],
   "source": [
    "evaluator_ht.evaluate(stream=stream, model=ht, model_names=['Hoeffding Tree'])"
   ]
  },
  {
   "cell_type": "markdown",
   "metadata": {},
   "source": [
    "Restart the Stream "
   ]
  },
  {
   "cell_type": "code",
   "execution_count": 23,
   "metadata": {},
   "outputs": [],
   "source": [
    "stream.restart()"
   ]
  },
  {
   "cell_type": "markdown",
   "metadata": {},
   "source": [
    "Train & Evaluation Using ARF"
   ]
  },
  {
   "cell_type": "code",
   "execution_count": 24,
   "metadata": {},
   "outputs": [],
   "source": [
    "evaluator_arf = EvaluatePrequential(show_plot=False,\n",
    "                                    pretrain_size=pretrain_size,\n",
    "                                    max_samples=max_samples,\n",
    "                                    metrics=['accuracy', 'kappa'])"
   ]
  },
  {
   "cell_type": "code",
   "execution_count": 25,
   "metadata": {},
   "outputs": [
    {
     "name": "stdout",
     "output_type": "stream",
     "text": [
      "Prequential Evaluation\n",
      "Evaluating 1 target(s).\n",
      "Pre-training on 2000000 sample(s).\n",
      "Evaluating...\n",
      " #################### [100%] [11616.78s]\n",
      "Processed samples: 4000000\n",
      "Mean performance:\n",
      "Adaptive Random Forest - Accuracy     : 0.9982\n",
      "Adaptive Random Forest - Kappa        : 0.9959\n"
     ]
    },
    {
     "data": {
      "text/plain": [
       "[AdaptiveRandomForestClassifier(binary_split=False, disable_weighted_vote=False,\n",
       "                                drift_detection_method=ADWIN(delta=0.001),\n",
       "                                grace_period=50, lambda_value=6,\n",
       "                                leaf_prediction='nba', max_byte_size=33554432,\n",
       "                                max_features=2, memory_estimate_period=2000000,\n",
       "                                n_estimators=10, nb_threshold=0,\n",
       "                                no_preprune=False, nominal_attributes=None,\n",
       "                                performance_metric='acc', random_state=None,\n",
       "                                remove_poor_atts=False, split_confidence=0.01,\n",
       "                                split_criterion='info_gain',\n",
       "                                stop_mem_management=False, tie_threshold=0.05,\n",
       "                                warning_detection_method=ADWIN(delta=0.01))]"
      ]
     },
     "execution_count": 25,
     "metadata": {},
     "output_type": "execute_result"
    }
   ],
   "source": [
    "evaluator_arf.evaluate(stream=stream, model=arf, model_names=['Adaptive Random Forest'])"
   ]
  }
 ],
 "metadata": {
  "kernelspec": {
   "display_name": "base",
   "language": "python",
   "name": "python3"
  },
  "language_info": {
   "codemirror_mode": {
    "name": "ipython",
    "version": 3
   },
   "file_extension": ".py",
   "mimetype": "text/x-python",
   "name": "python",
   "nbconvert_exporter": "python",
   "pygments_lexer": "ipython3",
   "version": "3.9.7"
  }
 },
 "nbformat": 4,
 "nbformat_minor": 2
}
