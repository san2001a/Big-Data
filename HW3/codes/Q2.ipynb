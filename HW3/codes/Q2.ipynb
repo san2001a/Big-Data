{
 "cells": [
  {
   "cell_type": "markdown",
   "metadata": {},
   "source": [
    "Import Libraries"
   ]
  },
  {
   "cell_type": "code",
   "execution_count": 1,
   "metadata": {},
   "outputs": [],
   "source": [
    "import pandas as pd\n",
    "import pandas as pd\n",
    "import numpy as np\n",
    "from scipy.stats import pearsonr\n",
    "from sklearn.metrics.pairwise import cosine_similarity"
   ]
  },
  {
   "cell_type": "markdown",
   "metadata": {},
   "source": [
    "Load Data"
   ]
  },
  {
   "cell_type": "code",
   "execution_count": 2,
   "metadata": {},
   "outputs": [
    {
     "name": "stdout",
     "output_type": "stream",
     "text": [
      "   userId  movieId  rating  timestamp\n",
      "0       1        1     4.0  964982703\n",
      "1       1        3     4.0  964981247\n",
      "2       1        6     4.0  964982224\n",
      "3       1       47     5.0  964983815\n",
      "4       1       50     5.0  964982931\n"
     ]
    }
   ],
   "source": [
    "# Load the data\n",
    "ratings = pd.read_csv('ratings.csv')\n",
    "\n",
    "# Display the first few rows of the dataset\n",
    "print(ratings.head())  \n",
    "\n",
    "# Define desired user ID\n",
    "user_id = 126"
   ]
  },
  {
   "cell_type": "markdown",
   "metadata": {},
   "source": [
    "Part a"
   ]
  },
  {
   "cell_type": "markdown",
   "metadata": {},
   "source": [
    "Pearson"
   ]
  },
  {
   "cell_type": "code",
   "execution_count": 15,
   "metadata": {},
   "outputs": [
    {
     "name": "stderr",
     "output_type": "stream",
     "text": [
      "/var/folders/_6/p6rbnzf53qqc6zhb68fmkftm0000gn/T/ipykernel_821/3582204554.py:9: ConstantInputWarning: An input array is constant; the correlation coefficient is not defined.\n",
      "  return pearsonr(ratings_pivot.loc[user1, common_ratings], ratings_pivot.loc[user2, common_ratings])[0]\n"
     ]
    },
    {
     "name": "stdout",
     "output_type": "stream",
     "text": [
      "Pearson:\n",
      "userId\n",
      "61     1.0\n",
      "146    1.0\n",
      "237    1.0\n",
      "252    1.0\n",
      "259    1.0\n",
      "272    1.0\n",
      "293    1.0\n",
      "309    1.0\n",
      "487    1.0\n",
      "511    1.0\n",
      "Name: userId, dtype: float64\n"
     ]
    }
   ],
   "source": [
    "# Create a pivot table\n",
    "ratings_pivot = ratings.pivot(index='userId', columns='movieId', values='rating')\n",
    "\n",
    "# Function to compute Pearson correlation coefficient\n",
    "def pearson_similarity(user1, user2):\n",
    "    common_ratings = ratings_pivot.loc[user1].dropna().index.intersection(ratings_pivot.loc[user2].dropna().index)\n",
    "    if len(common_ratings) < 2:\n",
    "        return float('nan')\n",
    "    return pearsonr(ratings_pivot.loc[user1, common_ratings], ratings_pivot.loc[user2, common_ratings])[0]\n",
    "\n",
    "# Compute similarity of user 126 with all other users\n",
    "pearson_similarities = ratings_pivot.index.to_series().apply(lambda x: pearson_similarity(user_id, x)).drop(user_id)\n",
    "\n",
    "# Filter out NaN values\n",
    "pearson_similarities = pearson_similarities.dropna()\n",
    "\n",
    "# Top 10 similar users by Pearson correlation\n",
    "top_10_pearson = pearson_similarities.nlargest(10)\n",
    "similar_users = top_10_pearson.index\n",
    "print(\"Pearson:\")\n",
    "print(top_10_pearson)"
   ]
  },
  {
   "cell_type": "markdown",
   "metadata": {},
   "source": [
    "Cosine Similarity"
   ]
  },
  {
   "cell_type": "code",
   "execution_count": 16,
   "metadata": {},
   "outputs": [
    {
     "name": "stdout",
     "output_type": "stream",
     "text": [
      "Cosine sim:\n",
      "userId\n",
      "379    0.813373\n",
      "94     0.706430\n",
      "507    0.690587\n",
      "512    0.684872\n",
      "81     0.679452\n",
      "485    0.679053\n",
      "179    0.674915\n",
      "498    0.671849\n",
      "470    0.665665\n",
      "340    0.652847\n",
      "Name: 126, dtype: float64\n"
     ]
    }
   ],
   "source": [
    "# Fill NaN with 0s for cosine similarity computation\n",
    "ratings_filled = ratings_pivot.fillna(0)\n",
    "\n",
    "# Compute cosine similarity\n",
    "cosine_similarities = cosine_similarity(ratings_filled)\n",
    "cosine_sim_df = pd.DataFrame(cosine_similarities, index=ratings_filled.index, columns=ratings_filled.index)\n",
    "\n",
    "# Top 10 similar users by cosine similarity\n",
    "top_10_cosine = cosine_sim_df.loc[user_id].nlargest(11).iloc[1:]\n",
    "print(\"Cosine sim:\")\n",
    "print(top_10_cosine)"
   ]
  },
  {
   "cell_type": "markdown",
   "metadata": {},
   "source": [
    "Part b"
   ]
  },
  {
   "cell_type": "markdown",
   "metadata": {},
   "source": [
    "USER-USER Collaborative filtering"
   ]
  },
  {
   "cell_type": "code",
   "execution_count": 5,
   "metadata": {},
   "outputs": [],
   "source": [
    "# Function to predict rating using the user-user collaborative filtering approach\n",
    "def predict_user_rating(user_id, movie_id, similar_users):\n",
    "    numerator = 0\n",
    "    denominator = 0\n",
    "    \n",
    "    for similar_user in similar_users:\n",
    "        similarity = pearson_similarities[similar_user]\n",
    "        rating = ratings_pivot.loc[similar_user, movie_id]\n",
    "        \n",
    "        if not pd.isna(rating):\n",
    "            numerator += similarity * rating\n",
    "            denominator += abs(similarity)\n",
    "    \n",
    "    if denominator == 0:\n",
    "        return float('nan')\n",
    "    \n",
    "    return numerator / denominator"
   ]
  },
  {
   "cell_type": "code",
   "execution_count": 6,
   "metadata": {},
   "outputs": [],
   "source": [
    "def user_user_cf(user_id, similar_users, top_n=6):\n",
    "    user_ratings = ratings_pivot.loc[user_id].dropna()\n",
    "    predictions = pd.Series(dtype=float)\n",
    "    \n",
    "    for movie_id in ratings_pivot.columns:\n",
    "        if movie_id not in user_ratings.index:\n",
    "            predicted_rating = predict_user_rating(user_id, movie_id, similar_users)\n",
    "            predictions.loc[movie_id] = predicted_rating\n",
    "    \n",
    "    recommendations = predictions.dropna().nlargest(top_n)\n",
    "    full_recommendations = predictions.dropna().nlargest(150)\n",
    "    return recommendations, full_recommendations"
   ]
  },
  {
   "cell_type": "code",
   "execution_count": 7,
   "metadata": {},
   "outputs": [
    {
     "name": "stdout",
     "output_type": "stream",
     "text": [
      "Top 6 reccomended movies using user-user CF:\n",
      "Movie 912 (5.0)\n",
      "Movie 1172 (5.0)\n",
      "Movie 1250 (5.0)\n",
      "Movie 1283 (5.0)\n",
      "Movie 1304 (5.0)\n",
      "Movie 1584 (5.0)\n"
     ]
    }
   ],
   "source": [
    "user_user_recommendations, user_for_combined = user_user_cf(user_id, similar_users)\n",
    "print(\"Top 6 reccomended movies using user-user CF:\")\n",
    "# print(user_user_recommendations)\n",
    "for movie_id, rating in user_user_recommendations.items():\n",
    "    print(f\"Movie {movie_id} ({rating})\")"
   ]
  },
  {
   "cell_type": "markdown",
   "metadata": {},
   "source": [
    "Part c & d functions"
   ]
  },
  {
   "cell_type": "code",
   "execution_count": 8,
   "metadata": {},
   "outputs": [],
   "source": [
    "# Compute item-item similarity matrix using Pearson correlation\n",
    "item_sim_df = ratings_pivot.corr(method='pearson')\n",
    "\n",
    "# Function to predict rating using the item-item collaborative filtering formula\n",
    "def predict_item_rating(user_id, item_id, item_sim_df, ratings_pivot, top_n=10):\n",
    "    user_ratings = ratings_pivot.loc[user_id].dropna()\n",
    "    \n",
    "    # Similar items to the target item\n",
    "    similar_items = item_sim_df[item_id].sort_values(ascending=False).index\n",
    "    \n",
    "    numerator = 0\n",
    "    denominator = 0\n",
    "    \n",
    "    for similar_item in similar_items:\n",
    "        if similar_item in user_ratings.index:\n",
    "            similarity = item_sim_df.loc[item_id, similar_item]\n",
    "            rating = user_ratings[similar_item]\n",
    "            numerator += similarity * rating\n",
    "            denominator += abs(similarity)\n",
    "            \n",
    "    if denominator == 0:\n",
    "        return float('nan')\n",
    "    \n",
    "    return numerator / denominator"
   ]
  },
  {
   "cell_type": "code",
   "execution_count": 9,
   "metadata": {},
   "outputs": [],
   "source": [
    "# Overall average rating\n",
    "mu = ratings['rating'].mean()\n",
    "# User biases\n",
    "user_biases = ratings.groupby('userId')['rating'].mean() - mu\n",
    "# Item biases\n",
    "item_biases = ratings.groupby('movieId')['rating'].mean() - mu"
   ]
  },
  {
   "cell_type": "code",
   "execution_count": 10,
   "metadata": {},
   "outputs": [],
   "source": [
    "# Function to predict rating using the item-item collaborative filtering formula with baseline estimate\n",
    "def predict_item_rating_with_baseline(user_id, item_id, item_sim_df, ratings_pivot, top_n=10):\n",
    "    user_ratings = ratings_pivot.loc[user_id].dropna()\n",
    "    \n",
    "    # Baseline estimate\n",
    "    bx = user_biases[user_id] if user_id in user_biases else 0\n",
    "    bi = item_biases[item_id] if item_id in item_biases else 0\n",
    "    bxi = mu + bx + bi\n",
    "    \n",
    "    # Similar items to the target item\n",
    "    similar_items = item_sim_df[item_id].sort_values(ascending=False).index\n",
    "    \n",
    "    numerator = 0\n",
    "    denominator = 0\n",
    "    \n",
    "    for similar_item in similar_items:\n",
    "        if similar_item in user_ratings.index:\n",
    "            similarity = item_sim_df.loc[item_id, similar_item]\n",
    "            rating = user_ratings[similar_item]\n",
    "            bxi_similar = mu + bx + (item_biases[similar_item] if similar_item in item_biases else 0)\n",
    "            numerator += similarity * (rating - bxi_similar)\n",
    "            denominator += abs(similarity)\n",
    "            \n",
    "    if denominator == 0:\n",
    "        return bxi\n",
    "    \n",
    "    return bxi + (numerator / denominator)"
   ]
  },
  {
   "cell_type": "code",
   "execution_count": 11,
   "metadata": {},
   "outputs": [],
   "source": [
    "# Function to recommend movies based on item-item collaborative filtering\n",
    "def item_item_cf(user_id, mode, top_n=6):\n",
    "    user_ratings = ratings_pivot.loc[user_id].dropna()\n",
    "    predictions = pd.Series(dtype=float)\n",
    "    \n",
    "    for item_id in ratings_pivot.columns:\n",
    "        if item_id not in user_ratings.index:\n",
    "            if mode == 0:\n",
    "                predicted_rating = predict_item_rating(user_id, item_id, item_sim_df, ratings_pivot)\n",
    "            else:\n",
    "                predicted_rating = predict_item_rating_with_baseline(user_id, item_id, item_sim_df, ratings_pivot)\n",
    "            predictions[item_id] = predicted_rating\n",
    "    \n",
    "    recommendations = predictions.dropna().nlargest(top_n)\n",
    "    full_recommendations = predictions.dropna().nlargest(150)\n",
    "    return recommendations, full_recommendations"
   ]
  },
  {
   "cell_type": "markdown",
   "metadata": {},
   "source": [
    "Part c output"
   ]
  },
  {
   "cell_type": "code",
   "execution_count": 12,
   "metadata": {},
   "outputs": [
    {
     "name": "stdout",
     "output_type": "stream",
     "text": [
      "Top 6 reccomended movies using item-item CF:\n",
      "Movie 2268 (3.59011168088767)\n",
      "Movie 2 (3.5243121063177916)\n",
      "Movie 1101 (3.502890351669596)\n",
      "Movie 3578 (3.5008311549944136)\n",
      "Movie 2706 (3.500130255277038)\n",
      "Movie 2571 (3.4877977492085033)\n"
     ]
    }
   ],
   "source": [
    "item_item_recommendations, item_for_combined = item_item_cf(user_id, 0)\n",
    "# print(item_item_recommendations)\n",
    "print(\"Top 6 reccomended movies using item-item CF:\")\n",
    "for movie_id, rating in item_item_recommendations.items():\n",
    "    print(f\"Movie {movie_id} ({rating})\")"
   ]
  },
  {
   "cell_type": "markdown",
   "metadata": {},
   "source": [
    "Part d output"
   ]
  },
  {
   "cell_type": "code",
   "execution_count": 13,
   "metadata": {},
   "outputs": [
    {
     "name": "stdout",
     "output_type": "stream",
     "text": [
      "Top 6 reccomended movies using item-item CF (using baaseline):\n",
      "Movie 741 (4.425681217089712)\n",
      "Movie 44195 (4.41897691784027)\n",
      "Movie 1272 (4.355954629885956)\n",
      "Movie 904 (4.346099139826445)\n",
      "Movie 1252 (4.333022965431732)\n",
      "Movie 2761 (4.298575343505807)\n"
     ]
    }
   ],
   "source": [
    "item_item_recommendations_with_baseline, item_with_b_for_combined = item_item_cf(user_id, 1)\n",
    "# print(item_item_recommendations)\n",
    "print(\"Top 6 reccomended movies using item-item CF (using baaseline):\")\n",
    "for movie_id, rating in item_item_recommendations_with_baseline.items():\n",
    "    print(f\"Movie {movie_id} ({rating})\")"
   ]
  },
  {
   "cell_type": "markdown",
   "metadata": {},
   "source": [
    "Part e"
   ]
  },
  {
   "cell_type": "code",
   "execution_count": 14,
   "metadata": {},
   "outputs": [
    {
     "name": "stdout",
     "output_type": "stream",
     "text": [
      "Top 6 reccomended movies using combination of user-user and item-item CF:\n",
      "Movie 1584 (3.5)\n",
      "Movie 912 (3.5)\n",
      "Movie 1172 (3.5)\n",
      "Movie 1250 (3.5)\n",
      "Movie 1283 (3.5)\n",
      "Movie 1304 (3.5)\n"
     ]
    }
   ],
   "source": [
    "# Define weights\n",
    "w_user = 0.7\n",
    "w_item = 0.3\n",
    "\n",
    "# Find common movie IDs\n",
    "common_movie_ids = user_for_combined.index.intersection(item_for_combined.index)\n",
    "\n",
    "if len(common_movie_ids) == 0:\n",
    "    print(\"Error: No common movie IDs found.\")\n",
    "else:\n",
    "    # Combine recommendations using weighted average for common movie IDs\n",
    "    combined_recommendations = {}\n",
    "    for movie_id in common_movie_ids:\n",
    "        rating_user = user_user_recommendations.get(movie_id, 0) \n",
    "        rating_item = item_item_recommendations.get(movie_id, 0)\n",
    "        \n",
    "        combined_rating = (w_user * rating_user) + (w_item * rating_item)\n",
    "        combined_recommendations[movie_id] = combined_rating\n",
    "    \n",
    "    # Add ratings from user-user for IDs not in item-item\n",
    "    for movie_id in user_user_recommendations.index.difference(item_item_recommendations.index):\n",
    "        rating_user = user_user_recommendations[movie_id]\n",
    "        combined_recommendations[movie_id] = w_user * rating_user\n",
    "    \n",
    "    # Convert combined recommendations to a pandas Series\n",
    "    combined_series = pd.Series(combined_recommendations)\n",
    "    final_recommendations = combined_series.dropna().nlargest(6)\n",
    "    print(\"Top 6 reccomended movies using combination of user-user and item-item CF:\")\n",
    "    for movie_id, rating in final_recommendations.items():\n",
    "        print(f\"Movie {movie_id} ({rating})\")"
   ]
  }
 ],
 "metadata": {
  "kernelspec": {
   "display_name": "base",
   "language": "python",
   "name": "python3"
  },
  "language_info": {
   "codemirror_mode": {
    "name": "ipython",
    "version": 3
   },
   "file_extension": ".py",
   "mimetype": "text/x-python",
   "name": "python",
   "nbconvert_exporter": "python",
   "pygments_lexer": "ipython3",
   "version": "3.11.0"
  }
 },
 "nbformat": 4,
 "nbformat_minor": 2
}
